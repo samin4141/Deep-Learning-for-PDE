{
 "cells": [
  {
   "cell_type": "code",
   "execution_count": 2,
   "id": "a2760046",
   "metadata": {},
   "outputs": [],
   "source": [
    "import torch\n",
    "import torch.nn.functional as F\n",
    "import numpy as np\n",
    "import matplotlib.pyplot as plt\n",
    "import torch.optim as optim\n",
    "import torch.nn as nn\n",
    "from scipy.optimize import minimize\n",
    "import math"
   ]
  },
  {
   "cell_type": "code",
   "execution_count": 6,
   "id": "670d085a",
   "metadata": {},
   "outputs": [
    {
     "name": "stderr",
     "output_type": "stream",
     "text": [
      "C:\\Users\\Sadman\\AppData\\Local\\Temp\\ipykernel_2220\\4278029492.py:18: RuntimeWarning: invalid value encountered in sqrt\n",
      "  g_interior = np.sqrt(1 - np.sqrt(x_interior ** 2 + y_interior ** 2) ** 2)\n",
      "C:\\Users\\Sadman\\AppData\\Local\\Temp\\ipykernel_2220\\2130797071.py:53: RuntimeWarning: invalid value encountered in sqrt\n",
      "  U_exact[cond1] = np.sqrt(1 - r**2)[cond1]\n"
     ]
    }
   ],
   "source": [
    "num_interior = 500\n",
    "num_boundary = 100\n",
    "r_star = 0.6979651482\n",
    "x_interior = np.linspace(-2, 2, num_interior)\n",
    "y_interior = np.linspace(-2, 2, num_interior)\n",
    "\n",
    "x_interior = x_interior.reshape(num_interior, 1)\n",
    "y_interior = y_interior.reshape(num_interior, 1)\n",
    "\n",
    "theta = np.random.uniform(0, 2 * np.pi, num_boundary)\n",
    "x_boundary = 2 * np.cos(theta)\n",
    "y_boundary = 2 * np.sin(theta)\n",
    "\n",
    "x_boundary = x_boundary.reshape(num_boundary, 1)\n",
    "y_boundary = y_boundary.reshape(num_boundary, 1)\n",
    "\n",
    "\n",
    "g_interior = np.sqrt(1 - np.sqrt(x_interior ** 2 + y_interior ** 2) ** 2)\n",
    "g_interior[np.sqrt(x_interior ** 2 + y_interior ** 2) > 1] = -1\n",
    "\n",
    "h_boundary = u_exact(x_boundary, y_boundary, r_star)\n",
    "\n",
    "x_interior_tensor = torch.tensor(x_interior, dtype=torch.float32, requires_grad=True)\n",
    "y_interior_tensor = torch.tensor(y_interior, dtype=torch.float32, requires_grad=True)\n",
    "g_interior_tensor = torch.tensor(g_interior, dtype=torch.float32)\n",
    "\n",
    "x_boundary_tensor = torch.tensor(x_boundary, dtype=torch.float32, requires_grad=True)\n",
    "y_boundary_tensor = torch.tensor(y_boundary, dtype=torch.float32, requires_grad=True)\n",
    "h_boundary_tensor = torch.tensor(h_boundary, dtype=torch.float32)\n",
    "\n",
    "# x_tensor = torch.cat((x_interior_tensor,x_boundary_tensor))\n",
    "# y_tensor = torch.cat((y_interior_tensor,y_boundary_tensor))\n",
    "# g_tensor = torch.tensor(g(x_tensor.detach().numpy(), y_tensor.detach().numpy(), r_star))\n",
    "f_tensor = torch.full_like(x_interior_tensor, 0)\n"
   ]
  },
  {
   "cell_type": "code",
   "execution_count": 3,
   "id": "c18d4eac",
   "metadata": {},
   "outputs": [],
   "source": [
    "def g(x, y, r_star):\n",
    "    r = np.sqrt(x**2 + y**2)\n",
    "    r_tmp = np.sqrt(1 - r**2)\n",
    "    cond = r <= 1\n",
    "    g_val = np.ones_like(r) * (-1)\n",
    "    g_val[cond] = r_tmp[cond]\n",
    "    return g_val\n",
    "\n",
    "\n",
    "class DeepRitzNet(nn.Module):\n",
    "    def __init__(self,num_layers = 5, hidden_size = 50,output_size = 1,input_size = 1):\n",
    "        super().__init__()\n",
    "        h = hidden_size\n",
    "        assert num_layers >=2\n",
    "        self.fc = nn.ModuleList()\n",
    "        self.fc.append(nn.Linear(input_size,h))\n",
    "        for _ in range(num_layers -2):\n",
    "            self.fc.append(nn.Linear(h, h))\n",
    "        self.fc.append(nn.Linear(h, output_size))\n",
    "\n",
    "    def forward(self, x, y):\n",
    "        xy = torch.stack((x, y), dim=0)\n",
    "        print(f\"xy = {xy.shape}\")\n",
    "        x = xy\n",
    "        for layer in self.fc[:-1]:\n",
    "            x = layer(x)\n",
    "            x = F.relu(x)\n",
    "        x = self.fc[-1](x)\n",
    "        return x\n",
    "\n",
    "# class DeepRitzNet(nn.Module):\n",
    "#     def __init__(self):\n",
    "#         super(DeepRitzNet, self).__init__()\n",
    "#         self.layer1 = nn.Linear(2, 20)\n",
    "#         self.layer2 = nn.Linear(20, 20)\n",
    "#         self.layer3 = nn.Linear(20, 20)\n",
    "#         self.layer4 = nn.Linear(20, 1)\n",
    "\n",
    "#     def forward(self, x, y):\n",
    "#         xy = torch.stack((x, y), dim=1)\n",
    "#         x = torch.tanh(self.layer1(xy))\n",
    "#         x = torch.tanh(self.layer2(x))\n",
    "#         x = torch.tanh(self.layer3(x))\n",
    "#         x = self.layer4(x)\n",
    "#         return x\n",
    "\n",
    "def u_exact(x, y, r_star):\n",
    "    r = np.sqrt(x**2 + y**2)\n",
    "    U_exact = np.zeros_like(r)\n",
    "    cond1 = r <= r_star\n",
    "    cond2 = r > r_star\n",
    "    r_tmp = ((-1) * (r_star**2) * np.log(r / 2)) / np.sqrt(1 - r_star**2)\n",
    "    U_exact[cond1] = np.sqrt(1 - r**2)[cond1]\n",
    "    U_exact[cond2] = r_tmp[cond2]\n",
    "    return U_exact\n",
    "\n",
    "def energy_functional(u_int, u_bound, x_interior, y_interior, x_boundary, y_boundary, g, f, h):\n",
    "    u_x = torch.autograd.grad(u_int, x_interior, grad_outputs=torch.ones_like(u_int), create_graph=True, retain_graph=True)[0]\n",
    "    u_y = torch.autograd.grad(u_int, y_interior, grad_outputs=torch.ones_like(u_int), create_graph=True, retain_graph=True)[0]\n",
    "    u_xx = torch.autograd.grad(u_x, x_interior, grad_outputs=torch.ones_like(u_x), create_graph=True, retain_graph=True)[0]\n",
    "    u_yy = torch.autograd.grad(u_y, y_interior, grad_outputs=torch.ones_like(u_y), create_graph=True, retain_graph=True)[0]\n",
    "\n",
    "    energy = 0.5 * torch.sum(u_x * u_x + u_y * u_y) - torch.sum(f * u_int)\n",
    "\n",
    "    obstacle_term = (u_int - g)\n",
    "    energy += (10 ** 0) * torch.sum(torch.square(obstacle_term))\n",
    "\n",
    "#     interior_energy = torch.mean(torch.max(torch.zeros_like(u_xx + u_yy), -u_xx - u_yy - f))\n",
    "#     energy += (10 ** 6) * interior_energy\n",
    "\n",
    "    boundary_energy = torch.mean(torch.square(u_bound - h))\n",
    "    energy += (10 ** 6) * boundary_energy\n",
    "\n",
    "    return energy\n",
    "\n",
    "\n",
    "def train(model, x_interior, y_interior, x_boundary, y_boundary, g, f, h, epochs=5000, lr=0.01):\n",
    "    r_star = 0.6979651482\n",
    "    optimizer = optim.Adam(model.parameters(), lr=lr)\n",
    "\n",
    "    for epoch in range(epochs):\n",
    "        optimizer.zero_grad()\n",
    "        u_int = model(x_interior, y_interior)\n",
    "        u_bound = model(x_boundary, y_boundary)\n",
    "        print(u_int.shape, u_bound.shape)\n",
    "        print(g.shape, f.shape, h.shape)\n",
    "        energy = energy_functional(u_int, u_bound, x_interior, y_interior, x_boundary, y_boundary, g, f, h)\n",
    "        loss = energy\n",
    "        loss.backward(retain_graph=True)\n",
    "        optimizer.step()\n",
    "\n",
    "        if epoch % 500 == 0:\n",
    "            u_boun = torch.tensor(u_exact(x_boundary.detach().numpy(), y_boundary.detach().numpy(), r_star)) - u_bound\n",
    "            u_in = torch.tensor(u_exact(x_interior.detach().numpy(), y_interior.detach().numpy(), r_star)) - u_int\n",
    "            print(f\"Epoch {epoch}/{epochs}, Loss: {loss.item()}, Difference: {torch.sum(u_boun) + torch.sum(u_in)}\")\n"
   ]
  },
  {
   "cell_type": "code",
   "execution_count": null,
   "id": "d22a58a0",
   "metadata": {},
   "outputs": [],
   "source": [
    "model = DeepRitzNet()\n",
    "\n",
    "train(model, x_interior_tensor, y_interior_tensor, x_boundary_tensor, y_boundary_tensor, g_interior_tensor, f_tensor, h_boundary_tensor)\n",
    "\n"
   ]
  },
  {
   "cell_type": "code",
   "execution_count": 7,
   "id": "de6ce2de",
   "metadata": {},
   "outputs": [],
   "source": [
    "xy = torch.stack((x_interior_tensor, y_interior_tensor), dim=0)"
   ]
  },
  {
   "cell_type": "code",
   "execution_count": 8,
   "id": "0f29ca8d",
   "metadata": {},
   "outputs": [
    {
     "name": "stdout",
     "output_type": "stream",
     "text": [
      "torch.Size([2, 500, 1]) torch.Size([500, 1]) torch.Size([500, 1])\n"
     ]
    }
   ],
   "source": [
    "print(xy.shape, x_interior_tensor.shape, y_interior_tensor.shape)"
   ]
  },
  {
   "cell_type": "code",
   "execution_count": null,
   "id": "1a97a4f9",
   "metadata": {},
   "outputs": [],
   "source": []
  }
 ],
 "metadata": {
  "kernelspec": {
   "display_name": "Python 3 (ipykernel)",
   "language": "python",
   "name": "python3"
  },
  "language_info": {
   "codemirror_mode": {
    "name": "ipython",
    "version": 3
   },
   "file_extension": ".py",
   "mimetype": "text/x-python",
   "name": "python",
   "nbconvert_exporter": "python",
   "pygments_lexer": "ipython3",
   "version": "3.9.16"
  }
 },
 "nbformat": 4,
 "nbformat_minor": 5
}
